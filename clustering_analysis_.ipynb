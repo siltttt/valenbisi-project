{
 "cells": [
  {
   "cell_type": "code",
   "execution_count": 1,
   "id": "e2e017db",
   "metadata": {},
   "outputs": [],
   "source": [
    "import pandas as pd\n",
    "import numpy as np\n",
    "\n",
    "from ipynb.fs.defs.cluster_functions import mean_movs_by_hour\n",
    "from ipynb.fs.defs.cluster_functions import scale_data\n",
    "from ipynb.fs.defs.cluster_functions import n_clusters\n",
    "from ipynb.fs.defs.cluster_functions import agrupar\n",
    "from ipynb.fs.defs.cluster_functions import see_groups"
   ]
  },
  {
   "cell_type": "code",
   "execution_count": 2,
   "id": "418492b4",
   "metadata": {},
   "outputs": [],
   "source": [
    "import warnings\n",
    "warnings.simplefilter(action='ignore')"
   ]
  },
  {
   "cell_type": "code",
   "execution_count": 3,
   "id": "1dabfce8",
   "metadata": {},
   "outputs": [],
   "source": [
    "df = pd.read_csv('valenbisi_mov.csv')"
   ]
  },
  {
   "cell_type": "code",
   "execution_count": 4,
   "id": "a8b2a415",
   "metadata": {},
   "outputs": [],
   "source": [
    "entre_semana = df.loc[((df['Weekday'] == 'Mon') |\n",
    "                      (df['Weekday'] == 'Tue') |\n",
    "                      (df['Weekday'] == 'Wed') |\n",
    "                      (df['Weekday'] == 'Thu') |\n",
    "                      (df['Weekday'] == 'Fri')) & (df['Is_holiday'] == False)]\n",
    "\n",
    "fin_semana_festivos = df.loc[~((df['Weekday'] == 'Mon') |\n",
    "                      (df['Weekday'] == 'Tue') |\n",
    "                      (df['Weekday'] == 'Wed') |\n",
    "                      (df['Weekday'] == 'Thu') |\n",
    "                      (df['Weekday'] == 'Fri')) | (df['Is_holiday'] == True)]"
   ]
  },
  {
   "cell_type": "markdown",
   "id": "5e7e41e3",
   "metadata": {},
   "source": [
    "### Clustering para días entre semana no festivos\n",
    "\n",
    "Separaremos el dataframe en las siguientes franjas horarias:\n",
    "\n",
    "1. MADRUGADA: de 00 a 6 am\n",
    "2. MAÑANA: de 6 a 12 am\n",
    "3. MEDIODÍA: de 12 a 16 \n",
    "4. TARDE: de 16 a 22\n",
    "5. NOCHE: de 21 a 00"
   ]
  },
  {
   "cell_type": "code",
   "execution_count": 5,
   "id": "6b15f36f",
   "metadata": {},
   "outputs": [],
   "source": [
    "entre_semana_madrugada = entre_semana.loc[(entre_semana['Hour'] >= 0) &\n",
    "                                         (entre_semana['Hour'] < 7)]\n",
    "\n",
    "entre_semana_madrugada['Period'] = 'MADRUGADA'"
   ]
  },
  {
   "cell_type": "code",
   "execution_count": 6,
   "id": "59812acc",
   "metadata": {},
   "outputs": [
    {
     "data": {
      "image/png": "[encoded data removed]",
      "text/plain": [
       "<Figure size 432x276.48 with 1 Axes>"
      ]
     },
     "metadata": {
      "needs_background": "light"
     },
     "output_type": "display_data"
    }
   ],
   "source": [
    "entre_semana_madrugada = mean_movs_by_hour(entre_semana_madrugada)\n",
    "data = scale_data(entre_semana_madrugada)\n",
    "n_clusters(data)"
   ]
  },
  {
   "cell_type": "code",
   "execution_count": 7,
   "id": "d9a7df42",
   "metadata": {},
   "outputs": [
    {
     "data": {
      "image/png": "[encoded data removed]",
      "text/plain": [
       "<Figure size 1080x576 with 1 Axes>"
      ]
     },
     "metadata": {
      "needs_background": "light"
     },
     "output_type": "display_data"
    }
   ],
   "source": [
    "groups, means = see_groups(2, data, entre_semana_madrugada)"
   ]
  },
  {
   "cell_type": "code",
   "execution_count": 18,
   "id": "e4a7dc91",
   "metadata": {},
   "outputs": [],
   "source": [
    "cat = []\n",
    "\n",
    "for i in groups.index:\n",
    "    g = groups['Group'][i]\n",
    "    inp = round(means['Inputs'][g])\n",
    "    oup = round(means['Outputs'][g])\n",
    "\n",
    "    cat.append((inp, oup))\n",
    "    \n",
    "entre_semana_madrugada['Group'] = cat"
   ]
  },
  {
   "cell_type": "code",
   "execution_count": 19,
   "id": "343c8103",
   "metadata": {},
   "outputs": [],
   "source": [
    "total_inputs = sum(entre_semana_madrugada['Inputs'])\n",
    "total_outputs = sum(entre_semana_madrugada['Outputs'])"
   ]
  },
  {
   "cell_type": "code",
   "execution_count": 20,
   "id": "9157fd3e",
   "metadata": {},
   "outputs": [],
   "source": [
    "persona_1_1 = round(means['Outputs'][1]/total_outputs, 3)\n",
    "\n",
    "persona_3_3 = round(means['Outputs'][0]/total_outputs, 3)\n",
    "\n",
    "bici_1_1 = round(means['Inputs'][1]/total_inputs, 3)\n",
    "\n",
    "bici_3_3 = round(means['Inputs'][0]/total_inputs, 3)\n",
    "\n",
    "\n",
    "probs_persona = []\n",
    "probs_bici = []\n",
    "\n",
    "for i in entre_semana_madrugada.index:\n",
    "    if entre_semana_madrugada['Group'][i] == (1, 1):\n",
    "        probs_persona.append(persona_1_1)\n",
    "        probs_bici.append(bici_1_1)\n",
    "    \n",
    "    else:\n",
    "        probs_persona.append(persona_3_3)\n",
    "        probs_bici.append(bici_3_3)\n",
    "        \n",
    "entre_semana_madrugada['People_prob'] = probs_persona\n",
    "entre_semana_madrugada['Bike_prob'] = probs_bici"
   ]
  },
  {
   "cell_type": "code",
   "execution_count": 22,
   "id": "95a0b2ee",
   "metadata": {},
   "outputs": [
    {
     "data": {
      "text/html": [
       "<div>\n",
       "<style scoped>\n",
       "    .dataframe tbody tr th:only-of-type {\n",
       "        vertical-align: middle;\n",
       "    }\n",
       "\n",
       "    .dataframe tbody tr th {\n",
       "        vertical-align: top;\n",
       "    }\n",
       "\n",
       "    .dataframe thead th {\n",
       "        text-align: right;\n",
       "    }\n",
       "</style>\n",
       "<table border=\"1\" class=\"dataframe\">\n",
       "  <thead>\n",
       "    <tr style=\"text-align: right;\">\n",
       "      <th></th>\n",
       "      <th>Id_station</th>\n",
       "      <th>Period</th>\n",
       "      <th>Inputs</th>\n",
       "      <th>Outputs</th>\n",
       "      <th>Group</th>\n",
       "      <th>People_prob</th>\n",
       "      <th>Bike_prob</th>\n",
       "    </tr>\n",
       "  </thead>\n",
       "  <tbody>\n",
       "    <tr>\n",
       "      <th>0</th>\n",
       "      <td>1</td>\n",
       "      <td>MADRUGADA</td>\n",
       "      <td>1.659091</td>\n",
       "      <td>1.954545</td>\n",
       "      <td>(1, 1)</td>\n",
       "      <td>0.002</td>\n",
       "      <td>0.002</td>\n",
       "    </tr>\n",
       "    <tr>\n",
       "      <th>1</th>\n",
       "      <td>2</td>\n",
       "      <td>MADRUGADA</td>\n",
       "      <td>1.102273</td>\n",
       "      <td>3.000000</td>\n",
       "      <td>(1, 1)</td>\n",
       "      <td>0.002</td>\n",
       "      <td>0.002</td>\n",
       "    </tr>\n",
       "    <tr>\n",
       "      <th>2</th>\n",
       "      <td>3</td>\n",
       "      <td>MADRUGADA</td>\n",
       "      <td>2.113636</td>\n",
       "      <td>5.784091</td>\n",
       "      <td>(3, 3)</td>\n",
       "      <td>0.007</td>\n",
       "      <td>0.007</td>\n",
       "    </tr>\n",
       "    <tr>\n",
       "      <th>3</th>\n",
       "      <td>4</td>\n",
       "      <td>MADRUGADA</td>\n",
       "      <td>2.386364</td>\n",
       "      <td>3.920455</td>\n",
       "      <td>(3, 3)</td>\n",
       "      <td>0.007</td>\n",
       "      <td>0.007</td>\n",
       "    </tr>\n",
       "    <tr>\n",
       "      <th>4</th>\n",
       "      <td>5</td>\n",
       "      <td>MADRUGADA</td>\n",
       "      <td>1.079545</td>\n",
       "      <td>2.250000</td>\n",
       "      <td>(1, 1)</td>\n",
       "      <td>0.002</td>\n",
       "      <td>0.002</td>\n",
       "    </tr>\n",
       "  </tbody>\n",
       "</table>\n",
       "</div>"
      ],
      "text/plain": [
       "   Id_station     Period    Inputs   Outputs   Group  People_prob  Bike_prob\n",
       "0           1  MADRUGADA  1.659091  1.954545  (1, 1)        0.002      0.002\n",
       "1           2  MADRUGADA  1.102273  3.000000  (1, 1)        0.002      0.002\n",
       "2           3  MADRUGADA  2.113636  5.784091  (3, 3)        0.007      0.007\n",
       "3           4  MADRUGADA  2.386364  3.920455  (3, 3)        0.007      0.007\n",
       "4           5  MADRUGADA  1.079545  2.250000  (1, 1)        0.002      0.002"
      ]
     },
     "execution_count": 22,
     "metadata": {},
     "output_type": "execute_result"
    }
   ],
   "source": [
    "entre_semana_madrugada.head()"
   ]
  }
 ],
 "metadata": {
  "kernelspec": {
   "display_name": "Python 3 (ipykernel)",
   "language": "python",
   "name": "python3"
  },
  "language_info": {
   "codemirror_mode": {
    "name": "ipython",
    "version": 3
   },
   "file_extension": ".py",
   "mimetype": "text/x-python",
   "name": "python",
   "nbconvert_exporter": "python",
   "pygments_lexer": "ipython3",
   "version": "3.10.6"
  }
 },
 "nbformat": 4,
 "nbformat_minor": 5
}
