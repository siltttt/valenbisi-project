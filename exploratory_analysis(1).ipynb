{
 "cells": [
  {
   "cell_type": "code",
   "execution_count": 1,
   "id": "8768d73a",
   "metadata": {},
   "outputs": [],
   "source": [
    "import pandas as pd\n",
    "import matplotlib.pyplot as plt\n",
    "import numpy as np\n",
    "from datetime import datetime\n",
    "\n",
    "data = pd.read_csv('valenbisi_mov.csv')"
   ]
  },
  {
   "cell_type": "code",
   "execution_count": 2,
   "id": "16082802",
   "metadata": {},
   "outputs": [
    {
     "data": {
      "text/html": [
       "<div>\n",
       "<style scoped>\n",
       "    .dataframe tbody tr th:only-of-type {\n",
       "        vertical-align: middle;\n",
       "    }\n",
       "\n",
       "    .dataframe tbody tr th {\n",
       "        vertical-align: top;\n",
       "    }\n",
       "\n",
       "    .dataframe thead th {\n",
       "        text-align: right;\n",
       "    }\n",
       "</style>\n",
       "<table border=\"1\" class=\"dataframe\">\n",
       "  <thead>\n",
       "    <tr style=\"text-align: right;\">\n",
       "      <th></th>\n",
       "      <th>Date</th>\n",
       "      <th>Weekday</th>\n",
       "      <th>Is_holiday</th>\n",
       "      <th>T_min</th>\n",
       "      <th>T_mean</th>\n",
       "      <th>T_max</th>\n",
       "      <th>Prec</th>\n",
       "      <th>Hour</th>\n",
       "      <th>Quarter</th>\n",
       "      <th>Vel_mean</th>\n",
       "      <th>Vel_max</th>\n",
       "      <th>Id_station</th>\n",
       "      <th>Open</th>\n",
       "      <th>Bikes</th>\n",
       "      <th>Slots</th>\n",
       "      <th>Latitude</th>\n",
       "      <th>Longitude</th>\n",
       "      <th>Inputs</th>\n",
       "      <th>Outputs</th>\n",
       "      <th>Mov</th>\n",
       "    </tr>\n",
       "  </thead>\n",
       "  <tbody>\n",
       "    <tr>\n",
       "      <th>0</th>\n",
       "      <td>01-01-2023</td>\n",
       "      <td>Sun</td>\n",
       "      <td>True</td>\n",
       "      <td>7.0</td>\n",
       "      <td>12.1</td>\n",
       "      <td>17.2</td>\n",
       "      <td>0.0</td>\n",
       "      <td>0</td>\n",
       "      <td>0</td>\n",
       "      <td>0.0</td>\n",
       "      <td>4.2</td>\n",
       "      <td>1</td>\n",
       "      <td>True</td>\n",
       "      <td>15</td>\n",
       "      <td>10</td>\n",
       "      <td>39.480042</td>\n",
       "      <td>-0.382929</td>\n",
       "      <td>0</td>\n",
       "      <td>0</td>\n",
       "      <td>0</td>\n",
       "    </tr>\n",
       "    <tr>\n",
       "      <th>1</th>\n",
       "      <td>01-01-2023</td>\n",
       "      <td>Sun</td>\n",
       "      <td>True</td>\n",
       "      <td>7.0</td>\n",
       "      <td>12.1</td>\n",
       "      <td>17.2</td>\n",
       "      <td>0.0</td>\n",
       "      <td>0</td>\n",
       "      <td>15</td>\n",
       "      <td>0.0</td>\n",
       "      <td>4.2</td>\n",
       "      <td>1</td>\n",
       "      <td>True</td>\n",
       "      <td>14</td>\n",
       "      <td>11</td>\n",
       "      <td>39.480042</td>\n",
       "      <td>-0.382929</td>\n",
       "      <td>0</td>\n",
       "      <td>1</td>\n",
       "      <td>1</td>\n",
       "    </tr>\n",
       "    <tr>\n",
       "      <th>2</th>\n",
       "      <td>01-01-2023</td>\n",
       "      <td>Sun</td>\n",
       "      <td>True</td>\n",
       "      <td>7.0</td>\n",
       "      <td>12.1</td>\n",
       "      <td>17.2</td>\n",
       "      <td>0.0</td>\n",
       "      <td>0</td>\n",
       "      <td>30</td>\n",
       "      <td>0.0</td>\n",
       "      <td>4.2</td>\n",
       "      <td>1</td>\n",
       "      <td>True</td>\n",
       "      <td>14</td>\n",
       "      <td>11</td>\n",
       "      <td>39.480042</td>\n",
       "      <td>-0.382929</td>\n",
       "      <td>0</td>\n",
       "      <td>0</td>\n",
       "      <td>0</td>\n",
       "    </tr>\n",
       "    <tr>\n",
       "      <th>3</th>\n",
       "      <td>01-01-2023</td>\n",
       "      <td>Sun</td>\n",
       "      <td>True</td>\n",
       "      <td>7.0</td>\n",
       "      <td>12.1</td>\n",
       "      <td>17.2</td>\n",
       "      <td>0.0</td>\n",
       "      <td>0</td>\n",
       "      <td>45</td>\n",
       "      <td>0.0</td>\n",
       "      <td>4.2</td>\n",
       "      <td>1</td>\n",
       "      <td>True</td>\n",
       "      <td>13</td>\n",
       "      <td>12</td>\n",
       "      <td>39.480042</td>\n",
       "      <td>-0.382929</td>\n",
       "      <td>0</td>\n",
       "      <td>1</td>\n",
       "      <td>1</td>\n",
       "    </tr>\n",
       "    <tr>\n",
       "      <th>4</th>\n",
       "      <td>01-01-2023</td>\n",
       "      <td>Sun</td>\n",
       "      <td>True</td>\n",
       "      <td>7.0</td>\n",
       "      <td>12.1</td>\n",
       "      <td>17.2</td>\n",
       "      <td>0.0</td>\n",
       "      <td>1</td>\n",
       "      <td>0</td>\n",
       "      <td>0.0</td>\n",
       "      <td>4.2</td>\n",
       "      <td>1</td>\n",
       "      <td>True</td>\n",
       "      <td>13</td>\n",
       "      <td>12</td>\n",
       "      <td>39.480042</td>\n",
       "      <td>-0.382929</td>\n",
       "      <td>0</td>\n",
       "      <td>0</td>\n",
       "      <td>0</td>\n",
       "    </tr>\n",
       "  </tbody>\n",
       "</table>\n",
       "</div>"
      ],
      "text/plain": [
       "         Date Weekday  Is_holiday  T_min  T_mean  T_max  Prec  Hour  Quarter  \\\n",
       "0  01-01-2023     Sun        True    7.0    12.1   17.2   0.0     0        0   \n",
       "1  01-01-2023     Sun        True    7.0    12.1   17.2   0.0     0       15   \n",
       "2  01-01-2023     Sun        True    7.0    12.1   17.2   0.0     0       30   \n",
       "3  01-01-2023     Sun        True    7.0    12.1   17.2   0.0     0       45   \n",
       "4  01-01-2023     Sun        True    7.0    12.1   17.2   0.0     1        0   \n",
       "\n",
       "   Vel_mean  Vel_max  Id_station  Open  Bikes  Slots   Latitude  Longitude  \\\n",
       "0       0.0      4.2           1  True     15     10  39.480042  -0.382929   \n",
       "1       0.0      4.2           1  True     14     11  39.480042  -0.382929   \n",
       "2       0.0      4.2           1  True     14     11  39.480042  -0.382929   \n",
       "3       0.0      4.2           1  True     13     12  39.480042  -0.382929   \n",
       "4       0.0      4.2           1  True     13     12  39.480042  -0.382929   \n",
       "\n",
       "   Inputs  Outputs  Mov  \n",
       "0       0        0    0  \n",
       "1       0        1    1  \n",
       "2       0        0    0  \n",
       "3       0        1    1  \n",
       "4       0        0    0  "
      ]
     },
     "execution_count": 2,
     "metadata": {},
     "output_type": "execute_result"
    }
   ],
   "source": [
    "data.head()"
   ]
  },
  {
   "cell_type": "code",
   "execution_count": 3,
   "id": "95f0512d",
   "metadata": {},
   "outputs": [],
   "source": [
    "#data['Date'] = [datetime.strptime(i, '%d-%m-%Y') for i in list(data['Date'])]"
   ]
  },
  {
   "cell_type": "markdown",
   "id": "a0ed0c4d",
   "metadata": {},
   "source": [
    "### Detección de valores faltantes"
   ]
  },
  {
   "cell_type": "code",
   "execution_count": 4,
   "id": "b4649b4d",
   "metadata": {},
   "outputs": [
    {
     "data": {
      "text/plain": [
       "Date              0\n",
       "Weekday           0\n",
       "Is_holiday        0\n",
       "T_min             0\n",
       "T_mean            0\n",
       "T_max             0\n",
       "Prec          26220\n",
       "Hour              0\n",
       "Quarter           0\n",
       "Vel_mean          0\n",
       "Vel_max           0\n",
       "Id_station        0\n",
       "Open              0\n",
       "Bikes             0\n",
       "Slots             0\n",
       "Latitude          0\n",
       "Longitude         0\n",
       "Inputs            0\n",
       "Outputs           0\n",
       "Mov               0\n",
       "dtype: int64"
      ]
     },
     "execution_count": 4,
     "metadata": {},
     "output_type": "execute_result"
    }
   ],
   "source": [
    "data.isnull().sum()"
   ]
  },
  {
   "cell_type": "code",
   "execution_count": 5,
   "id": "831d40da",
   "metadata": {},
   "outputs": [
    {
     "data": {
      "text/html": [
       "<div>\n",
       "<style scoped>\n",
       "    .dataframe tbody tr th:only-of-type {\n",
       "        vertical-align: middle;\n",
       "    }\n",
       "\n",
       "    .dataframe tbody tr th {\n",
       "        vertical-align: top;\n",
       "    }\n",
       "\n",
       "    .dataframe thead th {\n",
       "        text-align: right;\n",
       "    }\n",
       "</style>\n",
       "<table border=\"1\" class=\"dataframe\">\n",
       "  <thead>\n",
       "    <tr style=\"text-align: right;\">\n",
       "      <th></th>\n",
       "      <th>Prec</th>\n",
       "      <th>Open</th>\n",
       "    </tr>\n",
       "  </thead>\n",
       "  <tbody>\n",
       "    <tr>\n",
       "      <th>0</th>\n",
       "      <td>0.0</td>\n",
       "      <td>3238214</td>\n",
       "    </tr>\n",
       "    <tr>\n",
       "      <th>1</th>\n",
       "      <td>0.1</td>\n",
       "      <td>78660</td>\n",
       "    </tr>\n",
       "    <tr>\n",
       "      <th>2</th>\n",
       "      <td>0.2</td>\n",
       "      <td>26220</td>\n",
       "    </tr>\n",
       "    <tr>\n",
       "      <th>3</th>\n",
       "      <td>0.5</td>\n",
       "      <td>26496</td>\n",
       "    </tr>\n",
       "    <tr>\n",
       "      <th>4</th>\n",
       "      <td>0.7</td>\n",
       "      <td>52716</td>\n",
       "    </tr>\n",
       "    <tr>\n",
       "      <th>5</th>\n",
       "      <td>1.1</td>\n",
       "      <td>25944</td>\n",
       "    </tr>\n",
       "    <tr>\n",
       "      <th>6</th>\n",
       "      <td>1.7</td>\n",
       "      <td>26496</td>\n",
       "    </tr>\n",
       "    <tr>\n",
       "      <th>7</th>\n",
       "      <td>2.1</td>\n",
       "      <td>24012</td>\n",
       "    </tr>\n",
       "    <tr>\n",
       "      <th>8</th>\n",
       "      <td>2.4</td>\n",
       "      <td>26496</td>\n",
       "    </tr>\n",
       "    <tr>\n",
       "      <th>9</th>\n",
       "      <td>2.5</td>\n",
       "      <td>25944</td>\n",
       "    </tr>\n",
       "    <tr>\n",
       "      <th>10</th>\n",
       "      <td>3.2</td>\n",
       "      <td>26309</td>\n",
       "    </tr>\n",
       "    <tr>\n",
       "      <th>11</th>\n",
       "      <td>4.6</td>\n",
       "      <td>25944</td>\n",
       "    </tr>\n",
       "    <tr>\n",
       "      <th>12</th>\n",
       "      <td>28.7</td>\n",
       "      <td>26220</td>\n",
       "    </tr>\n",
       "  </tbody>\n",
       "</table>\n",
       "</div>"
      ],
      "text/plain": [
       "    Prec     Open\n",
       "0    0.0  3238214\n",
       "1    0.1    78660\n",
       "2    0.2    26220\n",
       "3    0.5    26496\n",
       "4    0.7    52716\n",
       "5    1.1    25944\n",
       "6    1.7    26496\n",
       "7    2.1    24012\n",
       "8    2.4    26496\n",
       "9    2.5    25944\n",
       "10   3.2    26309\n",
       "11   4.6    25944\n",
       "12  28.7    26220"
      ]
     },
     "execution_count": 5,
     "metadata": {},
     "output_type": "execute_result"
    }
   ],
   "source": [
    "count_prec = data.groupby(['Prec'], as_index = False)['Open'].count()\n",
    "count_prec"
   ]
  },
  {
   "cell_type": "code",
   "execution_count": 6,
   "id": "bfb0ed09",
   "metadata": {},
   "outputs": [],
   "source": [
    "data['Prec'].fillna(data['Prec'].mean(), inplace=True)"
   ]
  },
  {
   "cell_type": "markdown",
   "id": "2877f0c0",
   "metadata": {},
   "source": [
    "### Análisis exploratorio"
   ]
  },
  {
   "cell_type": "markdown",
   "id": "18a1b8ed",
   "metadata": {},
   "source": [
    "**¿Depende el uso del servicio del día de la semana?**"
   ]
  },
  {
   "cell_type": "code",
   "execution_count": 7,
   "id": "6fabc456",
   "metadata": {},
   "outputs": [
    {
     "name": "stderr",
     "output_type": "stream",
     "text": [
      "No artists with labels found to put in legend.  Note that artists whose label start with an underscore are ignored when legend() is called with no argument.\n"
     ]
    },
    {
     "data": {
      "text/plain": [
       "Text(0.5, 1.0, 'Mean movements by weekday')"
      ]
     },
     "execution_count": 7,
     "metadata": {},
     "output_type": "execute_result"
    },
    {
     "data": {
      "image/png": "[encoded data removed]",
      "text/plain": [
       "<Figure size 1080x576 with 1 Axes>"
      ]
     },
     "metadata": {
      "needs_background": "light"
     },
     "output_type": "display_data"
    }
   ],
   "source": [
    "# día de la semana\n",
    "\n",
    "lista_dias = ['Mon', 'Tue', 'Wed', 'Thu', 'Fri', 'Sat', 'Sun']\n",
    "weekdays = pd.api.types.CategoricalDtype(categories=lista_dias)\n",
    "\n",
    "data[\"Weekday\"] = data[\"Weekday\"].astype(weekdays)\n",
    "\n",
    "by_weekday = data.groupby(['Weekday'], as_index = False)['Mov'].mean()\n",
    "by_weekday['Mov'] = by_weekday['Mov']/2\n",
    "\n",
    "x = np.arange(7)\n",
    "width = 0.25\n",
    "\n",
    "plt.figure(figsize=(15, 8))\n",
    "plt.bar(x, by_weekday['Mov'])\n",
    "#plt.bar(x+width, by_weekday['Outputs'], width = width, label = 'Outputs')\n",
    "\n",
    "plt.xticks(x, by_weekday['Weekday'])\n",
    "plt.ylim(bottom = 0, top = 0.5)\n",
    "plt.legend()\n",
    "plt.title('Mean movements by weekday')"
   ]
  },
  {
   "cell_type": "markdown",
   "id": "a68164aa",
   "metadata": {},
   "source": [
    "Vemos que hay algo de diferencia entre los días entre semana y los fines de semana, pero no es tampoco un efecto muy grande."
   ]
  },
  {
   "cell_type": "markdown",
   "id": "d902c9ee",
   "metadata": {},
   "source": [
    "**¿Afecta el hecho de que sea festivo o no festivo?**"
   ]
  },
  {
   "cell_type": "code",
   "execution_count": 8,
   "id": "36445ebd",
   "metadata": {},
   "outputs": [
    {
     "name": "stderr",
     "output_type": "stream",
     "text": [
      "No artists with labels found to put in legend.  Note that artists whose label start with an underscore are ignored when legend() is called with no argument.\n"
     ]
    },
    {
     "data": {
      "text/plain": [
       "Text(0.5, 1.0, 'Mean movements whether the day is holiday or not')"
      ]
     },
     "execution_count": 8,
     "metadata": {},
     "output_type": "execute_result"
    },
    {
     "data": {
      "image/png": "[encoded data removed]",
      "text/plain": [
       "<Figure size 1080x576 with 1 Axes>"
      ]
     },
     "metadata": {
      "needs_background": "light"
     },
     "output_type": "display_data"
    }
   ],
   "source": [
    "# festivos no festivos\n",
    "\n",
    "by_holiday = data.groupby(['Is_holiday'], as_index = False)['Mov'].mean()\n",
    "by_holiday['Mov'] = by_holiday['Mov']/2\n",
    "\n",
    "x = np.arange(2)\n",
    "width = 0.25\n",
    "\n",
    "plt.figure(figsize=(15, 8))\n",
    "plt.bar(x, by_holiday['Mov'])\n",
    "\n",
    "plt.xticks(x, ['Not holiday', 'Holiday'])\n",
    "plt.legend()\n",
    "plt.title('Mean movements whether the day is holiday or not')"
   ]
  },
  {
   "cell_type": "markdown",
   "id": "3fee4e2e",
   "metadata": {},
   "source": [
    "De nuevo, hay algo de diferencia pero tampoco muy notable."
   ]
  },
  {
   "cell_type": "markdown",
   "id": "f82021b6",
   "metadata": {},
   "source": [
    "**Distribución por horas**"
   ]
  },
  {
   "cell_type": "code",
   "execution_count": 9,
   "id": "ce873f79",
   "metadata": {
    "scrolled": true
   },
   "outputs": [
    {
     "name": "stderr",
     "output_type": "stream",
     "text": [
      "No artists with labels found to put in legend.  Note that artists whose label start with an underscore are ignored when legend() is called with no argument.\n"
     ]
    },
    {
     "data": {
      "text/plain": [
       "Text(0.5, 1.0, 'Mean movements by hour')"
      ]
     },
     "execution_count": 9,
     "metadata": {},
     "output_type": "execute_result"
    },
    {
     "data": {
      "image/png": "[encoded data removed]",
      "text/plain": [
       "<Figure size 1080x576 with 1 Axes>"
      ]
     },
     "metadata": {
      "needs_background": "light"
     },
     "output_type": "display_data"
    }
   ],
   "source": [
    "# Horas\n",
    "\n",
    "by_hour = data.groupby(['Hour'], as_index = False)['Mov'].mean()\n",
    "by_hour['Mov'] = by_hour['Mov']/2\n",
    "\n",
    "x = np.arange(len(by_hour))\n",
    "width = 0.25\n",
    "\n",
    "plt.figure(figsize=(15, 8))\n",
    "plt.bar(x, by_hour['Mov'])\n",
    "\n",
    "plt.xticks(x, by_hour['Hour'])\n",
    "plt.legend()\n",
    "plt.title('Mean movements by hour')"
   ]
  },
  {
   "cell_type": "markdown",
   "id": "7b939600",
   "metadata": {},
   "source": [
    "Se pueden agrupar por franjas:\n",
    "- Madrugada: 1-8\n",
    "- Mañana: 8-20\n",
    "- Noche: 20-00\n",
    "- Franja 00\n",
    "\n",
    "Hay una franja suelta para las 00 ya que presenta un comportamiento poco usual frente a lo que se podría esperar."
   ]
  },
  {
   "cell_type": "code",
   "execution_count": 10,
   "id": "e6f864df",
   "metadata": {},
   "outputs": [
    {
     "name": "stderr",
     "output_type": "stream",
     "text": [
      "No artists with labels found to put in legend.  Note that artists whose label start with an underscore are ignored when legend() is called with no argument.\n"
     ]
    },
    {
     "data": {
      "text/plain": [
       "Text(0.5, 1.0, 'Mean movements by quarter at 00')"
      ]
     },
     "execution_count": 10,
     "metadata": {},
     "output_type": "execute_result"
    },
    {
     "data": {
      "image/png": "[encoded data removed]",
      "text/plain": [
       "<Figure size 1080x576 with 1 Axes>"
      ]
     },
     "metadata": {
      "needs_background": "light"
     },
     "output_type": "display_data"
    }
   ],
   "source": [
    "hora_0 = data.loc[data['Hour'] == 0]\n",
    "\n",
    "\n",
    "by_quarter = data.groupby(['Quarter'], as_index = False)['Mov'].mean()\n",
    "by_quarter['Mov'] = by_hour['Mov']/2\n",
    "\n",
    "x = np.arange(len(by_quarter))\n",
    "width = 0.25\n",
    "\n",
    "plt.figure(figsize=(15, 8))\n",
    "plt.bar(x, by_quarter['Mov'])\n",
    "\n",
    "plt.xticks(x, by_quarter['Quarter'])\n",
    "plt.legend()\n",
    "plt.title('Mean movements by quarter at 00')"
   ]
  },
  {
   "cell_type": "code",
   "execution_count": 11,
   "id": "98ed891e",
   "metadata": {},
   "outputs": [
    {
     "name": "stderr",
     "output_type": "stream",
     "text": [
      "No artists with labels found to put in legend.  Note that artists whose label start with an underscore are ignored when legend() is called with no argument.\n"
     ]
    },
    {
     "data": {
      "text/plain": [
       "Text(0.5, 1.0, 'Number of times stations have had mov>20 at 00.00')"
      ]
     },
     "execution_count": 11,
     "metadata": {},
     "output_type": "execute_result"
    },
    {
     "data": {
      "image/png": "[encoded data removed]",
      "text/plain": [
       "<Figure size 1080x576 with 1 Axes>"
      ]
     },
     "metadata": {
      "needs_background": "light"
     },
     "output_type": "display_data"
    }
   ],
   "source": [
    "quarter_0_0 = data.loc[np.logical_and(data['Hour'] == 0, data['Quarter'] == 0)]\n",
    "\n",
    "mean_0 = data.loc[data['Hour'] == 0]['Hour'].mean()\n",
    "\n",
    "a = quarter_0_0.loc[quarter_0_0['Mov'] > 20]\n",
    "\n",
    "a_group = a.groupby(['Id_station'], as_index = False)['Bikes'].count()\n",
    "\n",
    "x = np.arange(len(a_group))\n",
    "width = 0.25\n",
    "\n",
    "plt.figure(figsize=(15, 8))\n",
    "plt.bar(x, a_group['Bikes'])\n",
    "\n",
    "plt.xticks(x, a_group['Id_station'])\n",
    "plt.legend()\n",
    "plt.title('Number of times stations have had mov>20 at 00.00')"
   ]
  },
  {
   "cell_type": "markdown",
   "id": "a2691e79",
   "metadata": {},
   "source": [
    "**Distribución por horas según festivo/no festivo**"
   ]
  },
  {
   "cell_type": "code",
   "execution_count": 12,
   "id": "c125dd7f",
   "metadata": {},
   "outputs": [
    {
     "data": {
      "text/plain": [
       "Text(0.5, 1.0, 'Mean movements by hour: holiday/not holiday')"
      ]
     },
     "execution_count": 12,
     "metadata": {},
     "output_type": "execute_result"
    },
    {
     "data": {
      "image/png": "[encoded data removed]",
      "text/plain": [
       "<Figure size 1080x576 with 1 Axes>"
      ]
     },
     "metadata": {
      "needs_background": "light"
     },
     "output_type": "display_data"
    }
   ],
   "source": [
    "fest = data.loc[data['Is_holiday'] == True]\n",
    "not_fest = data.loc[data['Is_holiday'] == False]\n",
    "\n",
    "by_hour_fest = fest.groupby(['Hour'], as_index = False)['Mov'].mean()\n",
    "by_hour_fest['Mov'] = by_hour_fest['Mov']/2\n",
    "\n",
    "by_hour_nfest = not_fest.groupby(['Hour'], as_index = False)['Mov'].mean()\n",
    "by_hour_nfest['Mov'] = by_hour_nfest['Mov']/2\n",
    "\n",
    "x = np.arange(len(by_hour_fest))\n",
    "width = 0.25\n",
    "\n",
    "plt.figure(figsize=(15, 8))\n",
    "plt.bar(x, by_hour_fest['Mov'], width = width, label = 'Holiday')\n",
    "plt.bar(x+width, by_hour_nfest['Mov'], width = width, label = 'Not holiday')\n",
    "\n",
    "plt.xticks(x, by_hour_fest['Hour'])\n",
    "plt.legend()\n",
    "plt.title('Mean movements by hour: holiday/not holiday')"
   ]
  },
  {
   "cell_type": "markdown",
   "id": "c24cc0da",
   "metadata": {},
   "source": [
    "!! Los días festivos tienden a tener más uso que los no festivos en horas de madrugada y menos en horas durante el día."
   ]
  },
  {
   "cell_type": "markdown",
   "id": "ff9962e3",
   "metadata": {},
   "source": [
    "**¿Afecta la temperatura?**"
   ]
  },
  {
   "cell_type": "code",
   "execution_count": 13,
   "id": "e8d80857",
   "metadata": {},
   "outputs": [
    {
     "data": {
      "text/plain": [
       "Text(0.5, 1.0, 'Mean movements by min temperature')"
      ]
     },
     "execution_count": 13,
     "metadata": {},
     "output_type": "execute_result"
    },
    {
     "data": {
      "image/png": "[encoded data removed]",
      "text/plain": [
       "<Figure size 1080x576 with 1 Axes>"
      ]
     },
     "metadata": {
      "needs_background": "light"
     },
     "output_type": "display_data"
    }
   ],
   "source": [
    "# temperatura minima\n",
    "\n",
    "aux = data\n",
    "#aux['T_min'] = round(aux['T_min'])\n",
    "\n",
    "by_t_min = aux.groupby(['T_min'], as_index = False)['Mov'].mean()\n",
    "by_t_min['Mov'] = by_t_min['Mov']/2\n",
    "\n",
    "#x = np.arange(len(by_t_min))\n",
    "width = 0.25\n",
    "\n",
    "plt.figure(figsize=(15, 8))\n",
    "plt.scatter(by_t_min['T_min'], by_t_min['Mov'])\n",
    "#plt.bar(x+width, by_t_min['Outputs'], width = width, label = 'Outputs')\n",
    "\n",
    "#plt.xticks(aux['T_min'], aux['Mov'])\n",
    "#plt.legend()\n",
    "plt.title('Mean movements by min temperature')"
   ]
  },
  {
   "cell_type": "code",
   "execution_count": 14,
   "id": "0aaf35d6",
   "metadata": {},
   "outputs": [
    {
     "data": {
      "text/plain": [
       "Text(0.5, 1.0, 'Mean movements by max temperature')"
      ]
     },
     "execution_count": 14,
     "metadata": {},
     "output_type": "execute_result"
    },
    {
     "data": {
      "image/png": "[encoded data removed]",
      "text/plain": [
       "<Figure size 1080x576 with 1 Axes>"
      ]
     },
     "metadata": {
      "needs_background": "light"
     },
     "output_type": "display_data"
    }
   ],
   "source": [
    "# t max\n",
    "\n",
    "aux = data\n",
    "#aux['T_max'] = round(aux['T_max'])\n",
    "\n",
    "by_t_max = aux.groupby(['T_max'], as_index = False)['Mov'].mean()\n",
    "by_t_max['Mov'] = by_t_max['Mov']/2\n",
    "\n",
    "#x = np.arange(len(by_t_max))\n",
    "width = 0.25\n",
    "\n",
    "plt.figure(figsize=(15, 8))\n",
    "plt.scatter(by_t_max['T_max'], by_t_max['Mov'])\n",
    "#plt.bar(x+width, by_t_max['Outputs'], width = width, label = 'Outputs')\n",
    "\n",
    "#plt.xticks(x, by_t_max['T_max'])\n",
    "#plt.legend()\n",
    "plt.title('Mean movements by max temperature')"
   ]
  },
  {
   "cell_type": "code",
   "execution_count": 15,
   "id": "465d8762",
   "metadata": {},
   "outputs": [
    {
     "data": {
      "text/plain": [
       "Text(0.5, 1.0, 'Mean movements by mean temperature')"
      ]
     },
     "execution_count": 15,
     "metadata": {},
     "output_type": "execute_result"
    },
    {
     "data": {
      "image/png": "[encoded data removed]",
      "text/plain": [
       "<Figure size 1080x576 with 1 Axes>"
      ]
     },
     "metadata": {
      "needs_background": "light"
     },
     "output_type": "display_data"
    }
   ],
   "source": [
    "# t mean\n",
    "\n",
    "aux = data\n",
    "#aux['T_min'] = round(aux['T_mean'])\n",
    "\n",
    "by_t_mean = aux.groupby(['T_mean'], as_index = False)['Mov'].mean()\n",
    "by_t_mean['Mov'] = by_t_mean['Mov']/2\n",
    "\n",
    "#x = np.arange(len(by_t_mean))\n",
    "width = 0.25\n",
    "\n",
    "plt.figure(figsize=(15, 8))\n",
    "plt.scatter(by_t_mean['T_mean'], by_t_mean['Mov'])\n",
    "#plt.bar(x+width, by_t_mean['Outputs'], width = width, label = 'Outputs')\n",
    "\n",
    "#plt.xticks(x, by_t_mean['T_mean'])\n",
    "#plt.legend()\n",
    "plt.title('Mean movements by mean temperature')"
   ]
  },
  {
   "cell_type": "markdown",
   "id": "1b72e368",
   "metadata": {},
   "source": [
    "No hay diferencias apreciables."
   ]
  },
  {
   "cell_type": "markdown",
   "id": "19d0145e",
   "metadata": {},
   "source": [
    "**¿Afectan las precipitaciones?**"
   ]
  },
  {
   "cell_type": "code",
   "execution_count": 16,
   "id": "19eb4ce9",
   "metadata": {},
   "outputs": [
    {
     "name": "stderr",
     "output_type": "stream",
     "text": [
      "No artists with labels found to put in legend.  Note that artists whose label start with an underscore are ignored when legend() is called with no argument.\n"
     ]
    },
    {
     "data": {
      "text/plain": [
       "Text(0.5, 1.0, 'Mean movements by precipitation')"
      ]
     },
     "execution_count": 16,
     "metadata": {},
     "output_type": "execute_result"
    },
    {
     "data": {
      "image/png": "[encoded data removed]",
      "text/plain": [
       "<Figure size 1080x576 with 1 Axes>"
      ]
     },
     "metadata": {
      "needs_background": "light"
     },
     "output_type": "display_data"
    }
   ],
   "source": [
    "# lluvia\n",
    "\n",
    "aux = data\n",
    "aux['Prec'] = round(aux['Prec'])\n",
    "\n",
    "by_prec = aux.groupby(['Prec'], as_index = False)['Mov'].mean()\n",
    "by_prec['Mov'] = by_prec['Mov']/2\n",
    "\n",
    "x = np.arange(len(by_prec))\n",
    "width = 0.25\n",
    "\n",
    "plt.figure(figsize=(15, 8))\n",
    "plt.bar(x, by_prec['Mov'])\n",
    "\n",
    "plt.xticks(x, by_prec['Prec'])\n",
    "plt.legend()\n",
    "plt.title('Mean movements by precipitation')"
   ]
  },
  {
   "cell_type": "code",
   "execution_count": 17,
   "id": "6c60c05e",
   "metadata": {},
   "outputs": [
    {
     "data": {
      "text/plain": [
       "Text(0.5, 1.0, 'Mean movements by precipitation')"
      ]
     },
     "execution_count": 17,
     "metadata": {},
     "output_type": "execute_result"
    },
    {
     "data": {
      "image/png": "[encoded data removed]",
      "text/plain": [
       "<Figure size 1080x576 with 1 Axes>"
      ]
     },
     "metadata": {
      "needs_background": "light"
     },
     "output_type": "display_data"
    }
   ],
   "source": [
    "# lluvia\n",
    "\n",
    "aux = data\n",
    "#aux['Prec'] = round(aux['Prec'])\n",
    "\n",
    "by_prec = aux.groupby(['Prec'], as_index = False)['Mov'].mean()\n",
    "by_prec['Mov'] = by_prec['Mov']/2\n",
    "\n",
    "#x = np.arange(len(by_prec))\n",
    "width = 0.25\n",
    "\n",
    "plt.figure(figsize=(15, 8))\n",
    "plt.scatter(by_prec['Prec'], by_prec['Mov'])\n",
    "\n",
    "#plt.xticks(x, by_prec['Prec'])\n",
    "#plt.legend()\n",
    "plt.xlim(left = -0.1, right = 6)\n",
    "plt.title('Mean movements by precipitation')"
   ]
  },
  {
   "cell_type": "markdown",
   "id": "31cae275",
   "metadata": {},
   "source": [
    "Se podría decir que afecta a partir de los 5mm."
   ]
  },
  {
   "cell_type": "markdown",
   "id": "18b85be9",
   "metadata": {},
   "source": [
    "**¿Afecta la velocidad del viento?**"
   ]
  },
  {
   "cell_type": "code",
   "execution_count": 18,
   "id": "69f2c1ea",
   "metadata": {},
   "outputs": [
    {
     "name": "stderr",
     "output_type": "stream",
     "text": [
      "No artists with labels found to put in legend.  Note that artists whose label start with an underscore are ignored when legend() is called with no argument.\n"
     ]
    },
    {
     "data": {
      "text/plain": [
       "Text(0.5, 1.0, 'Mean movements by wind speed')"
      ]
     },
     "execution_count": 18,
     "metadata": {},
     "output_type": "execute_result"
    },
    {
     "data": {
      "image/png": "[encoded data removed]",
      "text/plain": [
       "<Figure size 1080x576 with 1 Axes>"
      ]
     },
     "metadata": {
      "needs_background": "light"
     },
     "output_type": "display_data"
    }
   ],
   "source": [
    "# viento\n",
    "\n",
    "aux = data\n",
    "aux['Vel_mean'] = round(aux['Vel_mean'])\n",
    "\n",
    "by_vel = aux.groupby(['Vel_mean'], as_index = False)['Mov'].mean()\n",
    "by_vel['Mov'] = by_vel['Mov']/2\n",
    "\n",
    "\n",
    "x = np.arange(len(by_vel))\n",
    "width = 0.25\n",
    "\n",
    "plt.figure(figsize=(15, 8))\n",
    "plt.bar(x, by_vel['Mov'])\n",
    "\n",
    "plt.xticks(x, by_vel['Vel_mean'])\n",
    "plt.legend()\n",
    "plt.title('Mean movements by wind speed')"
   ]
  },
  {
   "cell_type": "markdown",
   "id": "7c431c01",
   "metadata": {},
   "source": [
    "No se aprecian diferencias."
   ]
  },
  {
   "cell_type": "code",
   "execution_count": 20,
   "id": "d59d51f9",
   "metadata": {
    "scrolled": true
   },
   "outputs": [
    {
     "data": {
      "text/plain": [
       "Text(0.5, 1.0, 'Mean movements by wind speed')"
      ]
     },
     "execution_count": 20,
     "metadata": {},
     "output_type": "execute_result"
    },
    {
     "data": {
      "image/png": "[encoded data removed]",
      "text/plain": [
       "<Figure size 1080x576 with 1 Axes>"
      ]
     },
     "metadata": {
      "needs_background": "light"
     },
     "output_type": "display_data"
    }
   ],
   "source": [
    "# viento\n",
    "\n",
    "aux = data\n",
    "#aux['Vel_mean'] = round(aux['Vel_mean'])\n",
    "\n",
    "by_vel = aux.groupby(['Vel_mean'], as_index = False)['Mov'].mean()\n",
    "by_vel['Mov'] = by_vel['Mov']/2\n",
    "\n",
    "\n",
    "#x = np.arange(len(by_vel))\n",
    "width = 0.25\n",
    "\n",
    "plt.figure(figsize=(15, 8))\n",
    "plt.scatter(by_vel['Vel_mean'], by_vel['Mov'])\n",
    "\n",
    "#plt.xticks(x, by_vel['Vel_mean'])\n",
    "#plt.legend()\n",
    "plt.title('Mean movements by wind speed')"
   ]
  },
  {
   "cell_type": "code",
   "execution_count": null,
   "id": "7f4be5fe",
   "metadata": {},
   "outputs": [],
   "source": []
  }
 ],
 "metadata": {
  "kernelspec": {
   "display_name": "Python 3 (ipykernel)",
   "language": "python",
   "name": "python3"
  },
  "language_info": {
   "codemirror_mode": {
    "name": "ipython",
    "version": 3
   },
   "file_extension": ".py",
   "mimetype": "text/x-python",
   "name": "python",
   "nbconvert_exporter": "python",
   "pygments_lexer": "ipython3",
   "version": "3.10.6"
  }
 },
 "nbformat": 4,
 "nbformat_minor": 5
}
