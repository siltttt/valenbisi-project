{
 "cells": [
  {
   "cell_type": "code",
   "execution_count": 1,
   "id": "f2f92daf",
   "metadata": {},
   "outputs": [],
   "source": [
    "import pandas as pd\n",
    "import numpy as np\n",
    "\n",
    "df_distancias = pd.read_csv('matriz_distancias1.csv', index_col = [0])"
   ]
  },
  {
   "cell_type": "code",
   "execution_count": 2,
   "id": "bc714c04",
   "metadata": {},
   "outputs": [],
   "source": [
    "df_alcanzable = np.zeros((276, 276), dtype = int)\n",
    "\n",
    "for i in df_distancias.index:\n",
    "    for j in df_distancias.columns:\n",
    "        j = int(j)\n",
    "        if i<j:\n",
    "            try:\n",
    "                mins = float(df_distancias[str(i)][j].strip(')').split(',')[-1])\n",
    "\n",
    "                if mins<30:\n",
    "                    df_alcanzable[i][j] = 1\n",
    "                    df_alcanzable[j][i] = 1\n",
    "                else:\n",
    "                    df_alcanzable[i][j] = 0\n",
    "                    df_alcanzable[j][i] = 0\n",
    "            except: pass"
   ]
  },
  {
   "cell_type": "code",
   "execution_count": 3,
   "id": "5a5d4c38",
   "metadata": {},
   "outputs": [],
   "source": [
    "df_alcanzable = pd.DataFrame(df_alcanzable)\n",
    "x = np.arange(1, 277)\n",
    "df_alcanzable.index = x\n",
    "df_alcanzable.columns = x\n",
    "\n",
    "df_alcanzable.to_csv('df_alcanzable.csv')"
   ]
  },
  {
   "cell_type": "code",
   "execution_count": 53,
   "id": "dce46103",
   "metadata": {},
   "outputs": [
    {
     "data": {
      "text/plain": [
       "Text(0.5, 1.0, 'Distribution on the number of reachable stations')"
      ]
     },
     "execution_count": 53,
     "metadata": {},
     "output_type": "execute_result"
    },
    {
     "data": {
      "image/png": "[encoded data removed]",
      "text/plain": [
       "<Figure size 1080x576 with 1 Axes>"
      ]
     },
     "metadata": {
      "needs_background": "light"
     },
     "output_type": "display_data"
    }
   ],
   "source": [
    "n_alcanzables = {}\n",
    "\n",
    "for i in df_alcanzable.columns:\n",
    "    n = sum(list(df_alcanzable[i]))\n",
    "    n_alcanzables[int(i)] = n\n",
    "    \n",
    "import matplotlib.pyplot as plt\n",
    "\n",
    "stations = np.arange(1, 277)\n",
    "values = list(n_alcanzables.values())\n",
    "\n",
    "aux = pd.DataFrame(list(zip(stations, values)), columns = ['stats', 'n'])\n",
    "\n",
    "aux = aux.groupby(['n'], as_index = False)['stats'].count()\n",
    "\n",
    "rangos = [(130, 160), (160, 190), (190, 220), (220, 250), (250, 275)]\n",
    "\n",
    "lista_valores = []\n",
    "\n",
    "for r in rangos:\n",
    "    aa = 0\n",
    "    n, m = r\n",
    "    for i in aux.index:\n",
    "        if aux['n'][i] > n and aux['n'][i] <= m:\n",
    "            aa += aux['stats'][i]\n",
    "            \n",
    "    lista_valores.append(aa)\n",
    "    \n",
    "rangos = [str(r) for r in rangos]    \n",
    "    \n",
    "plt.figure(figsize=(15, 8))\n",
    "plt.bar(rangos, lista_valores)\n",
    "plt.title('Distribution on the number of reachable stations')"
   ]
  },
  {
   "cell_type": "code",
   "execution_count": 15,
   "id": "648b5301",
   "metadata": {},
   "outputs": [],
   "source": [
    "prob_bike_dict = {}\n",
    "\n",
    "for i, n in n_alcanzables.items():\n",
    "    prob_bike_dict[i] = 1/n"
   ]
  },
  {
   "cell_type": "code",
   "execution_count": 24,
   "id": "60a8cd7d",
   "metadata": {},
   "outputs": [],
   "source": [
    "df_probs = np.zeros((276, 276), dtype = float)\n",
    "\n",
    "for i in df_alcanzable.index:\n",
    "    for j in df_alcanzable.columns:\n",
    "        j = int(j)\n",
    "        if i<j:\n",
    "            try:\n",
    "                a = df_alcanzable[i][j]\n",
    "                if a == 1:\n",
    "                    \n",
    "                    df_probs[j-1][i-1] = prob_bike_dict[i]\n",
    "                    df_probs[i-1][j-1] = prob_bike_dict[i]\n",
    "\n",
    "                else: pass\n",
    "                    \n",
    "            except: pass\n",
    "        \n",
    "df_probs = pd.DataFrame(df_probs)\n",
    "\n",
    "x = np.arange(1, 277)\n",
    "df_probs.index = x\n",
    "df_probs.columns = x"
   ]
  },
  {
   "cell_type": "code",
   "execution_count": 50,
   "id": "e8a20a67",
   "metadata": {},
   "outputs": [],
   "source": [
    "df_probs.to_csv('df_probabilities.csv')"
   ]
  },
  {
   "cell_type": "code",
   "execution_count": null,
   "id": "189c9e32",
   "metadata": {},
   "outputs": [],
   "source": []
  }
 ],
 "metadata": {
  "kernelspec": {
   "display_name": "Python 3 (ipykernel)",
   "language": "python",
   "name": "python3"
  },
  "language_info": {
   "codemirror_mode": {
    "name": "ipython",
    "version": 3
   },
   "file_extension": ".py",
   "mimetype": "text/x-python",
   "name": "python",
   "nbconvert_exporter": "python",
   "pygments_lexer": "ipython3",
   "version": "3.10.6"
  }
 },
 "nbformat": 4,
 "nbformat_minor": 5
}
