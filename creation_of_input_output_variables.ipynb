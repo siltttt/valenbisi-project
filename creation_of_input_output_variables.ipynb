{
 "cells": [
  {
   "cell_type": "code",
   "execution_count": 8,
   "id": "07871cc6",
   "metadata": {},
   "outputs": [],
   "source": [
    "import pandas as pd\n",
    "from datetime import datetime\n",
    "import numpy as np\n",
    "\n",
    "df = pd.read_csv('Valenbisi_data.csv', sep = ';')\n",
    "\n",
    "df = df.sort_values(by = ['Id_station', 'Date', 'Hour', 'Quarter'])\n",
    "\n",
    "df.to_csv('valenbisi_2.csv', index = False)"
   ]
  },
  {
   "cell_type": "code",
   "execution_count": 9,
   "id": "eb9e04b0",
   "metadata": {},
   "outputs": [],
   "source": [
    "df = pd.read_csv('valenbisi_2.csv')\n",
    "\n",
    "inputs = [0]\n",
    "outputs = [0]\n",
    "mov = [0]\n",
    "\n",
    "for i in range(1, len(df)):\n",
    "    if df['Id_station'][i-1] != df['Id_station'][i]:\n",
    "        inputs.append(0)\n",
    "        outputs.append(0)\n",
    "        mov.append(0)\n",
    "    else:\n",
    "        inp = df['Bikes'][i-1] - df['Bikes'][i]\n",
    "        \n",
    "        if inp == 0:\n",
    "            inputs.append(0)\n",
    "            outputs.append(0)\n",
    "        \n",
    "        elif inp > 0:\n",
    "            inputs.append(0)\n",
    "            outputs.append(abs(inp))\n",
    "            \n",
    "        else:\n",
    "            inputs.append(abs(inp))\n",
    "            outputs.append(0)\n",
    "            \n",
    "        mov.append(abs(inp))\n",
    "    \n",
    "df['Inputs'] = inputs\n",
    "df['Outputs'] = outputs\n",
    "df['Mov'] = mov\n",
    "\n",
    "df.to_csv('valenbisi_mov.csv', index = False)"
   ]
  }
 ],
 "metadata": {
  "kernelspec": {
   "display_name": "Python 3 (ipykernel)",
   "language": "python",
   "name": "python3"
  },
  "language_info": {
   "codemirror_mode": {
    "name": "ipython",
    "version": 3
   },
   "file_extension": ".py",
   "mimetype": "text/x-python",
   "name": "python",
   "nbconvert_exporter": "python",
   "pygments_lexer": "ipython3",
   "version": "3.10.6"
  }
 },
 "nbformat": 4,
 "nbformat_minor": 5
}
